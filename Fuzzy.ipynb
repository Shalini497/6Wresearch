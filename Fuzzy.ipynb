{
 "cells": [
  {
   "cell_type": "code",
   "execution_count": null,
   "id": "53f20497",
   "metadata": {},
   "outputs": [],
   "source": [
    "\n"
   ]
  },
  {
   "cell_type": "code",
   "execution_count": 1,
   "id": "827e825c",
   "metadata": {},
   "outputs": [
    {
     "name": "stderr",
     "output_type": "stream",
     "text": [
      "C:\\Users\\admin\\anaconda3\\lib\\site-packages\\fuzzywuzzy\\fuzz.py:11: UserWarning: Using slow pure-python SequenceMatcher. Install python-Levenshtein to remove this warning\n",
      "  warnings.warn('Using slow pure-python SequenceMatcher. Install python-Levenshtein to remove this warning')\n"
     ]
    }
   ],
   "source": [
    "import pandas as pd\n",
    "from fuzzywuzzy import fuzz\n",
    "from fuzzywuzzy import process"
   ]
  },
  {
   "cell_type": "markdown",
   "id": "8557fa33",
   "metadata": {},
   "source": [
    "*** Load the datasets of both Import and data bank ***"
   ]
  },
  {
   "cell_type": "code",
   "execution_count": 2,
   "id": "132d286e",
   "metadata": {},
   "outputs": [
    {
     "data": {
      "text/html": [
       "<div>\n",
       "<style scoped>\n",
       "    .dataframe tbody tr th:only-of-type {\n",
       "        vertical-align: middle;\n",
       "    }\n",
       "\n",
       "    .dataframe tbody tr th {\n",
       "        vertical-align: top;\n",
       "    }\n",
       "\n",
       "    .dataframe thead th {\n",
       "        text-align: right;\n",
       "    }\n",
       "</style>\n",
       "<table border=\"1\" class=\"dataframe\">\n",
       "  <thead>\n",
       "    <tr style=\"text-align: right;\">\n",
       "      <th></th>\n",
       "      <th>Product Description</th>\n",
       "      <th>Model Name</th>\n",
       "      <th>Brand Name</th>\n",
       "    </tr>\n",
       "  </thead>\n",
       "  <tbody>\n",
       "    <tr>\n",
       "      <th>0</th>\n",
       "      <td>1ST LENS ASSY (9147),A-2182-241-A,SEL1635GM(PA...</td>\n",
       "      <td>SEL1635GM</td>\n",
       "      <td>Sony</td>\n",
       "    </tr>\n",
       "    <tr>\n",
       "      <th>1</th>\n",
       "      <td>92992523 VPLL-Z4015/4WW SHORT FOCUS ZOOM LENS ...</td>\n",
       "      <td>VPLL-Z4015/4WW</td>\n",
       "      <td>Sony</td>\n",
       "    </tr>\n",
       "    <tr>\n",
       "      <th>2</th>\n",
       "      <td>16536659 FUJINON LENS GF32-64MMF4 R LM WR</td>\n",
       "      <td>GF32-64 mm</td>\n",
       "      <td>Fujifilm</td>\n",
       "    </tr>\n",
       "    <tr>\n",
       "      <th>3</th>\n",
       "      <td>16443060 F XF50-140MMF2.8 R LM OIS WR (LENS)</td>\n",
       "      <td>XF50-140 mm</td>\n",
       "      <td>Fujifilm</td>\n",
       "    </tr>\n",
       "    <tr>\n",
       "      <th>4</th>\n",
       "      <td>16536659 FUJINON LENS GF32-64MMF4 R LM WR</td>\n",
       "      <td>GF32-64 mm</td>\n",
       "      <td>Fujifilm</td>\n",
       "    </tr>\n",
       "  </tbody>\n",
       "</table>\n",
       "</div>"
      ],
      "text/plain": [
       "                                 Product Description      Model Name  \\\n",
       "0  1ST LENS ASSY (9147),A-2182-241-A,SEL1635GM(PA...       SEL1635GM   \n",
       "1  92992523 VPLL-Z4015/4WW SHORT FOCUS ZOOM LENS ...  VPLL-Z4015/4WW   \n",
       "2         16536659 FUJINON LENS GF32-64MMF4 R LM WR       GF32-64 mm   \n",
       "3      16443060 F XF50-140MMF2.8 R LM OIS WR (LENS)      XF50-140 mm   \n",
       "4         16536659 FUJINON LENS GF32-64MMF4 R LM WR       GF32-64 mm   \n",
       "\n",
       "  Brand Name  \n",
       "0       Sony  \n",
       "1       Sony  \n",
       "2   Fujifilm  \n",
       "3   Fujifilm  \n",
       "4   Fujifilm  "
      ]
     },
     "execution_count": 2,
     "metadata": {},
     "output_type": "execute_result"
    }
   ],
   "source": [
    "data_bank_df = pd.read_excel(\"D:/Fuzzy Cleaning/data bank.xlsx\")   # load and read the Data_bank\n",
    "data_bank_df.head()"
   ]
  },
  {
   "cell_type": "code",
   "execution_count": 3,
   "id": "f0d510e4",
   "metadata": {},
   "outputs": [
    {
     "data": {
      "text/html": [
       "<div>\n",
       "<style scoped>\n",
       "    .dataframe tbody tr th:only-of-type {\n",
       "        vertical-align: middle;\n",
       "    }\n",
       "\n",
       "    .dataframe tbody tr th {\n",
       "        vertical-align: top;\n",
       "    }\n",
       "\n",
       "    .dataframe thead th {\n",
       "        text-align: right;\n",
       "    }\n",
       "</style>\n",
       "<table border=\"1\" class=\"dataframe\">\n",
       "  <thead>\n",
       "    <tr style=\"text-align: right;\">\n",
       "      <th></th>\n",
       "      <th>slno</th>\n",
       "      <th>Date</th>\n",
       "      <th>HS Code</th>\n",
       "      <th>Product Description</th>\n",
       "      <th>Consignee Name</th>\n",
       "      <th>Shipper Name</th>\n",
       "      <th>Consignee Address 1</th>\n",
       "      <th>Consignee Address 2</th>\n",
       "      <th>Shipper Address1</th>\n",
       "      <th>Shipper Address 2</th>\n",
       "      <th>...</th>\n",
       "      <th>Raw Consignee Add1</th>\n",
       "      <th>Raw Consignee Add2</th>\n",
       "      <th>Raw Shipper Address1</th>\n",
       "      <th>Raw Shipper Address2</th>\n",
       "      <th>Raw Consignee City</th>\n",
       "      <th>Raw Consignee Pincode</th>\n",
       "      <th>Raw Consignee State</th>\n",
       "      <th>Raw Consignee Phone</th>\n",
       "      <th>Raw Consignee E-mail</th>\n",
       "      <th>Record Id</th>\n",
       "    </tr>\n",
       "  </thead>\n",
       "  <tbody>\n",
       "    <tr>\n",
       "      <th>0</th>\n",
       "      <td>0</td>\n",
       "      <td>2023-06-01</td>\n",
       "      <td>85258900</td>\n",
       "      <td>M320 IVCIII CAMERA - 4K 10449087  SPARE PARTS ...</td>\n",
       "      <td>DHR HOLDING INDIA PRIVATE LIMITED</td>\n",
       "      <td>LEICA MIKROSYSTEME VERTRIEB GMBH -DSA</td>\n",
       "      <td>UNIT NO 325 TO 328 DLF TOWERS,SHIV AJI MARG</td>\n",
       "      <td>NaN</td>\n",
       "      <td>ERNST-LEITZ-STRASSE 17-3735578 WETZLAR / DUETS...</td>\n",
       "      <td>NaN</td>\n",
       "      <td>...</td>\n",
       "      <td>UNIT NO 325 TO 328 DLF TOWERS,SHIV AJI MARG</td>\n",
       "      <td>NaN</td>\n",
       "      <td>ERNST-LEITZ-STRASSE 17-3735578 WETZLAR</td>\n",
       "      <td>NaN</td>\n",
       "      <td>DELHI</td>\n",
       "      <td>110015.0</td>\n",
       "      <td>DELHI</td>\n",
       "      <td>NaN</td>\n",
       "      <td>amit.jain@danaher.com</td>\n",
       "      <td>41162905</td>\n",
       "    </tr>\n",
       "    <tr>\n",
       "      <th>1</th>\n",
       "      <td>1</td>\n",
       "      <td>2023-06-01</td>\n",
       "      <td>85258900</td>\n",
       "      <td>16759732 FUJIFILM DIGITAL CAMERA F X-T30 II B/...</td>\n",
       "      <td>FUJIFILM INDIA PRIVATE LIMITED</td>\n",
       "      <td>FUJIFILM CORPORATION</td>\n",
       "      <td>BUSINESS CENTRE OFF NO 521 LEVEL V ,CADDIE COM...</td>\n",
       "      <td>NaN</td>\n",
       "      <td>26-30 NASHIAZABU,2 CHOME MINATO -KUTOKYO JAPAN...</td>\n",
       "      <td>NaN</td>\n",
       "      <td>...</td>\n",
       "      <td>BUSINESS CENTRE OFF NO 521 LEVEL V ,CADDIE COM...</td>\n",
       "      <td>NaN</td>\n",
       "      <td>26-30 NASHIAZABU,2 CHOME MINATO -KUTOKYO JAPAN...</td>\n",
       "      <td>NaN</td>\n",
       "      <td>NEW DELHI</td>\n",
       "      <td>110037.0</td>\n",
       "      <td>DELHI</td>\n",
       "      <td>NaN</td>\n",
       "      <td>amit.kumar@fujifilm.com</td>\n",
       "      <td>40910267</td>\n",
       "    </tr>\n",
       "    <tr>\n",
       "      <th>2</th>\n",
       "      <td>2</td>\n",
       "      <td>2023-06-01</td>\n",
       "      <td>85258900</td>\n",
       "      <td>16670041 FUJIFILM DIGITAL CAMERA F X-S10 CD LI...</td>\n",
       "      <td>FUJIFILM INDIA PRIVATE LIMITED</td>\n",
       "      <td>FUJIFILM CORPORATION</td>\n",
       "      <td>BUSINESS CENTRE OFF NO 521 LEVEL V ,CADDIE COM...</td>\n",
       "      <td>NaN</td>\n",
       "      <td>26-30 NASHIAZABU,2 CHOME MINATO -KUTOKYO JAPAN...</td>\n",
       "      <td>NaN</td>\n",
       "      <td>...</td>\n",
       "      <td>BUSINESS CENTRE OFF NO 521 LEVEL V ,CADDIE COM...</td>\n",
       "      <td>NaN</td>\n",
       "      <td>26-30 NASHIAZABU,2 CHOME MINATO -KUTOKYO JAPAN...</td>\n",
       "      <td>NaN</td>\n",
       "      <td>NEW DELHI</td>\n",
       "      <td>110037.0</td>\n",
       "      <td>DELHI</td>\n",
       "      <td>NaN</td>\n",
       "      <td>amit.kumar@fujifilm.com</td>\n",
       "      <td>40910266</td>\n",
       "    </tr>\n",
       "    <tr>\n",
       "      <th>3</th>\n",
       "      <td>3</td>\n",
       "      <td>2023-06-01</td>\n",
       "      <td>85258900</td>\n",
       "      <td>M320 IVCIII CAMERA - 4K 10449087  SPARE PARTS ...</td>\n",
       "      <td>DHR HOLDING INDIA PRIVATE LIMITED</td>\n",
       "      <td>LEICA MIKROSYSTEME VERTRIEB GMBH -DSA</td>\n",
       "      <td>UNIT NO 325 TO 328 DLF TOWERS,SHIV AJI MARG</td>\n",
       "      <td>NaN</td>\n",
       "      <td>ERNST-LEITZ-STRASSE 17-3735578 WETZLAR / DUETS...</td>\n",
       "      <td>NaN</td>\n",
       "      <td>...</td>\n",
       "      <td>UNIT NO 325 TO 328 DLF TOWERS,SHIV AJI MARG</td>\n",
       "      <td>NaN</td>\n",
       "      <td>ERNST-LEITZ-STRASSE 17-3735578 WETZLAR</td>\n",
       "      <td>NaN</td>\n",
       "      <td>DELHI</td>\n",
       "      <td>110015.0</td>\n",
       "      <td>DELHI</td>\n",
       "      <td>NaN</td>\n",
       "      <td>amit.jain@danaher.com</td>\n",
       "      <td>41162884</td>\n",
       "    </tr>\n",
       "    <tr>\n",
       "      <th>4</th>\n",
       "      <td>4</td>\n",
       "      <td>2023-06-01</td>\n",
       "      <td>85258900</td>\n",
       "      <td>16670041 FUJIFILM DIGITAL CAMERA F X-S10 CD LI...</td>\n",
       "      <td>FUJIFILM INDIA PRIVATE LIMITED</td>\n",
       "      <td>FUJIFILM CORPORATION</td>\n",
       "      <td>BUSINESS CENTRE OFF NO 521 LEVEL V ,CADDIE COM...</td>\n",
       "      <td>NaN</td>\n",
       "      <td>26-30, NISHIAZABU 2-CHOME MINATO-KUTOKYO 106-8...</td>\n",
       "      <td>NaN</td>\n",
       "      <td>...</td>\n",
       "      <td>BUSINESS CENTRE OFF NO 521 LEVEL V ,CADDIE COM...</td>\n",
       "      <td>NaN</td>\n",
       "      <td>26-30, NISHIAZABU 2-CHOME MINATO-KUTOKYO 106-8...</td>\n",
       "      <td>NaN</td>\n",
       "      <td>NEW DELHI</td>\n",
       "      <td>110037.0</td>\n",
       "      <td>DELHI</td>\n",
       "      <td>NaN</td>\n",
       "      <td>amit.kumar@fujifilm.com</td>\n",
       "      <td>41654246</td>\n",
       "    </tr>\n",
       "  </tbody>\n",
       "</table>\n",
       "<p>5 rows × 52 columns</p>\n",
       "</div>"
      ],
      "text/plain": [
       "   slno       Date   HS Code  \\\n",
       "0     0 2023-06-01  85258900   \n",
       "1     1 2023-06-01  85258900   \n",
       "2     2 2023-06-01  85258900   \n",
       "3     3 2023-06-01  85258900   \n",
       "4     4 2023-06-01  85258900   \n",
       "\n",
       "                                 Product Description  \\\n",
       "0  M320 IVCIII CAMERA - 4K 10449087  SPARE PARTS ...   \n",
       "1  16759732 FUJIFILM DIGITAL CAMERA F X-T30 II B/...   \n",
       "2  16670041 FUJIFILM DIGITAL CAMERA F X-S10 CD LI...   \n",
       "3  M320 IVCIII CAMERA - 4K 10449087  SPARE PARTS ...   \n",
       "4  16670041 FUJIFILM DIGITAL CAMERA F X-S10 CD LI...   \n",
       "\n",
       "                      Consignee Name                           Shipper Name  \\\n",
       "0  DHR HOLDING INDIA PRIVATE LIMITED  LEICA MIKROSYSTEME VERTRIEB GMBH -DSA   \n",
       "1     FUJIFILM INDIA PRIVATE LIMITED                   FUJIFILM CORPORATION   \n",
       "2     FUJIFILM INDIA PRIVATE LIMITED                   FUJIFILM CORPORATION   \n",
       "3  DHR HOLDING INDIA PRIVATE LIMITED  LEICA MIKROSYSTEME VERTRIEB GMBH -DSA   \n",
       "4     FUJIFILM INDIA PRIVATE LIMITED                   FUJIFILM CORPORATION   \n",
       "\n",
       "                                Consignee Address 1   Consignee Address 2  \\\n",
       "0        UNIT NO 325 TO 328 DLF TOWERS,SHIV AJI MARG                  NaN   \n",
       "1  BUSINESS CENTRE OFF NO 521 LEVEL V ,CADDIE COM...                  NaN   \n",
       "2  BUSINESS CENTRE OFF NO 521 LEVEL V ,CADDIE COM...                  NaN   \n",
       "3        UNIT NO 325 TO 328 DLF TOWERS,SHIV AJI MARG                  NaN   \n",
       "4  BUSINESS CENTRE OFF NO 521 LEVEL V ,CADDIE COM...                  NaN   \n",
       "\n",
       "                                   Shipper Address1   Shipper Address 2   ...  \\\n",
       "0  ERNST-LEITZ-STRASSE 17-3735578 WETZLAR / DUETS...                 NaN  ...   \n",
       "1  26-30 NASHIAZABU,2 CHOME MINATO -KUTOKYO JAPAN...                 NaN  ...   \n",
       "2  26-30 NASHIAZABU,2 CHOME MINATO -KUTOKYO JAPAN...                 NaN  ...   \n",
       "3  ERNST-LEITZ-STRASSE 17-3735578 WETZLAR / DUETS...                 NaN  ...   \n",
       "4  26-30, NISHIAZABU 2-CHOME MINATO-KUTOKYO 106-8...                 NaN  ...   \n",
       "\n",
       "                                  Raw Consignee Add1 Raw Consignee Add2  \\\n",
       "0        UNIT NO 325 TO 328 DLF TOWERS,SHIV AJI MARG                NaN   \n",
       "1  BUSINESS CENTRE OFF NO 521 LEVEL V ,CADDIE COM...                NaN   \n",
       "2  BUSINESS CENTRE OFF NO 521 LEVEL V ,CADDIE COM...                NaN   \n",
       "3        UNIT NO 325 TO 328 DLF TOWERS,SHIV AJI MARG                NaN   \n",
       "4  BUSINESS CENTRE OFF NO 521 LEVEL V ,CADDIE COM...                NaN   \n",
       "\n",
       "                                Raw Shipper Address1  Raw Shipper Address2  \\\n",
       "0            ERNST-LEITZ-STRASSE 17-3735578 WETZLAR                    NaN   \n",
       "1  26-30 NASHIAZABU,2 CHOME MINATO -KUTOKYO JAPAN...                   NaN   \n",
       "2  26-30 NASHIAZABU,2 CHOME MINATO -KUTOKYO JAPAN...                   NaN   \n",
       "3            ERNST-LEITZ-STRASSE 17-3735578 WETZLAR                    NaN   \n",
       "4  26-30, NISHIAZABU 2-CHOME MINATO-KUTOKYO 106-8...                   NaN   \n",
       "\n",
       "   Raw Consignee City  Raw Consignee Pincode Raw Consignee State  \\\n",
       "0               DELHI               110015.0               DELHI   \n",
       "1           NEW DELHI               110037.0               DELHI   \n",
       "2           NEW DELHI               110037.0               DELHI   \n",
       "3               DELHI               110015.0               DELHI   \n",
       "4           NEW DELHI               110037.0               DELHI   \n",
       "\n",
       "  Raw Consignee Phone     Raw Consignee E-mail Record Id  \n",
       "0                 NaN    amit.jain@danaher.com  41162905  \n",
       "1                 NaN  amit.kumar@fujifilm.com  40910267  \n",
       "2                 NaN  amit.kumar@fujifilm.com  40910266  \n",
       "3                 NaN    amit.jain@danaher.com  41162884  \n",
       "4                 NaN  amit.kumar@fujifilm.com  41654246  \n",
       "\n",
       "[5 rows x 52 columns]"
      ]
     },
     "execution_count": 3,
     "metadata": {},
     "output_type": "execute_result"
    }
   ],
   "source": [
    "import_df = pd.read_excel(\"D:/Fuzzy Cleaning/import.xlsx\")   # Load and read Import data\n",
    "import_df.head()"
   ]
  },
  {
   "cell_type": "code",
   "execution_count": 4,
   "id": "2e7f588d",
   "metadata": {},
   "outputs": [],
   "source": [
    "# Data cleaning: Drop rows with missing values in the 'Product Description' column\n",
    "data_bank_df.dropna(subset=['Product Description'], inplace=True)\n",
    "import_df.dropna(subset=['Product Description'], inplace=True)"
   ]
  },
  {
   "cell_type": "code",
   "execution_count": 5,
   "id": "464b0362",
   "metadata": {},
   "outputs": [
    {
     "data": {
      "text/plain": [
       "0"
      ]
     },
     "execution_count": 5,
     "metadata": {},
     "output_type": "execute_result"
    }
   ],
   "source": [
    "# To check if there is still any missing values present there\n",
    "\n",
    "data_bank_df['Product Description'].isnull().sum()"
   ]
  },
  {
   "cell_type": "code",
   "execution_count": 6,
   "id": "c668216c",
   "metadata": {},
   "outputs": [
    {
     "data": {
      "text/plain": [
       "0"
      ]
     },
     "execution_count": 6,
     "metadata": {},
     "output_type": "execute_result"
    }
   ],
   "source": [
    "# to check in import_df \n",
    "import_df['Product Description'].isnull().sum()"
   ]
  },
  {
   "cell_type": "markdown",
   "id": "89736f39",
   "metadata": {},
   "source": [
    "*** As we find out there is no missing values present in our dataset now we do further tasks ***"
   ]
  },
  {
   "cell_type": "code",
   "execution_count": 23,
   "id": "aa4f1e1d",
   "metadata": {},
   "outputs": [],
   "source": [
    "exact_matches = pd.merge(import_df, data_bank_df, how='inner', on='Product Description')\n",
    "result_task1 = exact_matches[['Brand Name_y', 'Model Name_y']]\n",
    "result_task1.columns = ['Brand Name', 'Model Name']"
   ]
  },
  {
   "cell_type": "markdown",
   "id": "e16d7a19",
   "metadata": {},
   "source": [
    "*** Task 2 ***"
   ]
  },
  {
   "cell_type": "code",
   "execution_count": 8,
   "id": "4e484cb1",
   "metadata": {},
   "outputs": [
    {
     "data": {
      "application/vnd.jupyter.widget-view+json": {
       "model_id": "b23b49783eb24de0a305ec7978476bab",
       "version_major": 2,
       "version_minor": 0
      },
      "text/plain": [
       "Pandas Apply:   0%|          | 0/1547 [00:00<?, ?it/s]"
      ]
     },
     "metadata": {},
     "output_type": "display_data"
    }
   ],
   "source": [
    "import swifter\n",
    "\n",
    "# Task 2 - Find matches with up to 90% similarity between product descriptions.\n",
    "def fuzzy_match(row):\n",
    "    choices = data_bank_df['Product Description'].tolist()\n",
    "    match = process.extractOne(row['Product Description'], choices, scorer=fuzz.token_sort_ratio)\n",
    "    if match[1] >= 90:\n",
    "        return data_bank_df[data_bank_df['Product Description'] == match[0]][['Brand Name', 'Model Name']].values[0]\n",
    "    else:\n",
    "        return None\n",
    "\n",
    "import_df['Brand Name'] = None\n",
    "import_df['Model Name'] = None\n",
    "task2_matches = import_df.swifter.apply(fuzzy_match, axis=1, result_type='expand')\n",
    "import_df['Brand Name'] = task2_matches[0]\n",
    "import_df['Model Name'] = task2_matches[1]\n",
    "result_task2 = import_df.dropna(subset=['Brand Name', 'Model Name'])\n",
    "result_task2 = result_task2[['Brand Name', 'Model Name']]\n",
    "\n"
   ]
  },
  {
   "cell_type": "code",
   "execution_count": 20,
   "id": "d4cf0180",
   "metadata": {},
   "outputs": [],
   "source": [
    "# Assuming you have a DataFrame named 'brand_table' containing the Brand Name and additional information.\n",
    "brand_table = pd.read_csv('D:/Fuzzy Cleaning/brand.csv')\n",
    "\n",
    "# Preprocess the data\n",
    "import_df['Shipper Name'] = import_df['Shipper Name'].str.lower().str.replace('[^\\w\\s]', '').str.strip()\n",
    "brand_table['Brand Name'] = brand_table['Brand Name'].str.lower().str.replace('[^\\w\\s]', '').str.strip()\n",
    "\n",
    "# Create a dictionary for fast lookup of Brand Name in the brand_table DataFrame\n",
    "brand_name_lookup = brand_table.set_index('Brand Name')['slno'].to_dict()\n",
    "\n",
    "def find_brand(row):\n",
    "    shipper_name = row['Shipper Name']\n",
    "    match = process.extractOne(shipper_name, brand_name_lookup.keys(), scorer=fuzz.token_sort_ratio)\n",
    "    if match[1] >= 90:\n",
    "        return brand_name_lookup[match[0]]\n",
    "    else:\n",
    "        return None\n",
    "\n",
    "import_df['Brand Name'] = import_df.apply(find_brand, axis=1)\n",
    "result_task3 = import_df.dropna(subset=['Brand Name', 'Model Name'])\n",
    "result_task3 = result_task3[['Brand Name', 'Model Name']]\n"
   ]
  },
  {
   "cell_type": "markdown",
   "id": "59af5813",
   "metadata": {},
   "source": [
    "*** Now combine all and export and save into csv or excel format ***"
   ]
  },
  {
   "cell_type": "code",
   "execution_count": 24,
   "id": "cebc1351",
   "metadata": {},
   "outputs": [],
   "source": [
    "final_result = pd.concat([result_task1, result_task2, result_task3]).reset_index(drop=True)\n",
    "final_result.to_csv('final_result.csv', index=False)"
   ]
  },
  {
   "cell_type": "code",
   "execution_count": 22,
   "id": "ef75a3e8",
   "metadata": {},
   "outputs": [],
   "source": []
  },
  {
   "cell_type": "code",
   "execution_count": null,
   "id": "146199c4",
   "metadata": {},
   "outputs": [],
   "source": []
  },
  {
   "cell_type": "code",
   "execution_count": null,
   "id": "c4b6b6ed",
   "metadata": {},
   "outputs": [],
   "source": []
  },
  {
   "cell_type": "code",
   "execution_count": null,
   "id": "6cdf4ad0",
   "metadata": {},
   "outputs": [],
   "source": []
  },
  {
   "cell_type": "code",
   "execution_count": null,
   "id": "e641ecd1",
   "metadata": {},
   "outputs": [],
   "source": []
  },
  {
   "cell_type": "code",
   "execution_count": null,
   "id": "38268eaf",
   "metadata": {},
   "outputs": [],
   "source": []
  },
  {
   "cell_type": "code",
   "execution_count": null,
   "id": "1ca13b1a",
   "metadata": {},
   "outputs": [],
   "source": []
  },
  {
   "cell_type": "code",
   "execution_count": null,
   "id": "35a0e1c2",
   "metadata": {},
   "outputs": [],
   "source": []
  },
  {
   "cell_type": "code",
   "execution_count": null,
   "id": "f84925d8",
   "metadata": {},
   "outputs": [],
   "source": []
  },
  {
   "cell_type": "code",
   "execution_count": null,
   "id": "563f21d1",
   "metadata": {},
   "outputs": [],
   "source": []
  },
  {
   "cell_type": "code",
   "execution_count": null,
   "id": "9768b8f2",
   "metadata": {},
   "outputs": [],
   "source": []
  },
  {
   "cell_type": "code",
   "execution_count": null,
   "id": "44afd7da",
   "metadata": {},
   "outputs": [],
   "source": []
  }
 ],
 "metadata": {
  "kernelspec": {
   "display_name": "Python 3 (ipykernel)",
   "language": "python",
   "name": "python3"
  },
  "language_info": {
   "codemirror_mode": {
    "name": "ipython",
    "version": 3
   },
   "file_extension": ".py",
   "mimetype": "text/x-python",
   "name": "python",
   "nbconvert_exporter": "python",
   "pygments_lexer": "ipython3",
   "version": "3.9.12"
  }
 },
 "nbformat": 4,
 "nbformat_minor": 5
}
